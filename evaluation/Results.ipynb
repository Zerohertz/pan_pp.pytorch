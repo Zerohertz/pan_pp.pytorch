{
 "cells": [
  {
   "cell_type": "code",
   "execution_count": null,
   "metadata": {},
   "outputs": [],
   "source": [
    "from Results_DB import Data\n",
    "\n",
    "Data.keys()"
   ]
  },
  {
   "cell_type": "code",
   "execution_count": null,
   "metadata": {},
   "outputs": [],
   "source": [
    "K = Data.keys()\n",
    "N = len(K)\n",
    "Ver = ['' for _ in range(N)]\n",
    "Met = [[0 for _ in range(N)] for _ in range(3)]\n",
    "for i, j in enumerate(K):\n",
    "    Ver[i] = j\n",
    "    Met[0][i] = Data[j]['Detection']['hmean'] * 100\n",
    "    print(j + ': ' + str(Data[j]['Detection']['hmean']))\n",
    "print('********************************************************')\n",
    "for i, j in enumerate(K):\n",
    "    Met[1][i] = Data[j]['Detection']['precision'] * 100\n",
    "    print(j + ': ' + str(Data[j]['Detection']['precision']))\n",
    "print('********************************************************')\n",
    "for i, j in enumerate(K):\n",
    "    Met[2][i] = Data[j]['Detection']['recall'] * 100\n",
    "    print(j + ': ' + str(Data[j]['Detection']['recall']))"
   ]
  },
  {
   "cell_type": "code",
   "execution_count": null,
   "metadata": {},
   "outputs": [],
   "source": [
    "import numpy as np\n",
    "from matplotlib import pyplot as plt\n",
    "\n",
    "idx = np.arange(N) * 3\n",
    "bar_width = 0.8\n",
    "\n",
    "plt.rcParams['font.family'] = 'Times New Roman'\n",
    "plt.rcParams['font.size'] = 20\n",
    "\n",
    "fig = plt.figure(figsize=(15, 10))\n",
    "fig.set_facecolor('blue')\n",
    "plt.bar(idx, Met[0], bar_width, label='HMean', color='black', zorder=10)\n",
    "plt.bar(idx + bar_width, Met[1], bar_width, label='Precision', color='red', zorder=10)\n",
    "plt.bar(idx + bar_width + bar_width, Met[2], bar_width, label='Recall', color='blue', zorder=10)\n",
    "plt.xticks(idx + bar_width, Ver, rotation=-45)\n",
    "plt.ylabel('[%]')\n",
    "plt.ylim([97, 98])\n",
    "plt.legend()\n",
    "plt.grid(True)\n",
    "plt.savefig('test.png', dpi = 300, bbox_inches = 'tight', pad_inches = 0)"
   ]
  }
 ],
 "metadata": {
  "kernelspec": {
   "display_name": "Python 3",
   "language": "python",
   "name": "python3"
  },
  "language_info": {
   "codemirror_mode": {
    "name": "ipython",
    "version": 3
   },
   "file_extension": ".py",
   "mimetype": "text/x-python",
   "name": "python",
   "nbconvert_exporter": "python",
   "pygments_lexer": "ipython3",
   "version": "3.8.6"
  }
 },
 "nbformat": 4,
 "nbformat_minor": 4
}
