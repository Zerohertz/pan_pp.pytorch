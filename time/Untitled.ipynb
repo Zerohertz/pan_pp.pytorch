{
 "cells": [
  {
   "cell_type": "code",
   "execution_count": 1,
   "metadata": {},
   "outputs": [
    {
     "data": {
      "text/html": [
       "<div>\n",
       "<style scoped>\n",
       "    .dataframe tbody tr th:only-of-type {\n",
       "        vertical-align: middle;\n",
       "    }\n",
       "\n",
       "    .dataframe tbody tr th {\n",
       "        vertical-align: top;\n",
       "    }\n",
       "\n",
       "    .dataframe thead th {\n",
       "        text-align: right;\n",
       "    }\n",
       "</style>\n",
       "<table border=\"1\" class=\"dataframe\">\n",
       "  <thead>\n",
       "    <tr style=\"text-align: right;\">\n",
       "      <th></th>\n",
       "      <th>0</th>\n",
       "      <th>1</th>\n",
       "      <th>2</th>\n",
       "      <th>3</th>\n",
       "      <th>4</th>\n",
       "      <th>5</th>\n",
       "      <th>6</th>\n",
       "      <th>7</th>\n",
       "      <th>8</th>\n",
       "    </tr>\n",
       "  </thead>\n",
       "  <tbody>\n",
       "    <tr>\n",
       "      <th>0</th>\n",
       "      <td>0.032206</td>\n",
       "      <td>0.008020</td>\n",
       "      <td>0.433064</td>\n",
       "      <td>0.008832</td>\n",
       "      <td>0.003426</td>\n",
       "      <td>0.462197</td>\n",
       "      <td>0.026461</td>\n",
       "      <td>1.257668</td>\n",
       "      <td>0.000021</td>\n",
       "    </tr>\n",
       "    <tr>\n",
       "      <th>1</th>\n",
       "      <td>0.036051</td>\n",
       "      <td>0.010228</td>\n",
       "      <td>0.231630</td>\n",
       "      <td>0.005567</td>\n",
       "      <td>0.002025</td>\n",
       "      <td>0.253958</td>\n",
       "      <td>0.001260</td>\n",
       "      <td>0.687662</td>\n",
       "      <td>0.000013</td>\n",
       "    </tr>\n",
       "    <tr>\n",
       "      <th>2</th>\n",
       "      <td>0.036278</td>\n",
       "      <td>0.004850</td>\n",
       "      <td>0.299853</td>\n",
       "      <td>0.006127</td>\n",
       "      <td>0.002165</td>\n",
       "      <td>0.318344</td>\n",
       "      <td>0.002143</td>\n",
       "      <td>0.867262</td>\n",
       "      <td>0.000004</td>\n",
       "    </tr>\n",
       "    <tr>\n",
       "      <th>3</th>\n",
       "      <td>0.035819</td>\n",
       "      <td>0.007007</td>\n",
       "      <td>0.438285</td>\n",
       "      <td>0.012288</td>\n",
       "      <td>0.003409</td>\n",
       "      <td>0.468739</td>\n",
       "      <td>0.003147</td>\n",
       "      <td>1.317463</td>\n",
       "      <td>0.000016</td>\n",
       "    </tr>\n",
       "    <tr>\n",
       "      <th>4</th>\n",
       "      <td>0.036339</td>\n",
       "      <td>0.001468</td>\n",
       "      <td>0.353878</td>\n",
       "      <td>0.007362</td>\n",
       "      <td>0.002850</td>\n",
       "      <td>0.372432</td>\n",
       "      <td>0.001049</td>\n",
       "      <td>1.086687</td>\n",
       "      <td>0.000004</td>\n",
       "    </tr>\n",
       "  </tbody>\n",
       "</table>\n",
       "</div>"
      ],
      "text/plain": [
       "          0         1         2         3         4         5         6  \\\n",
       "0  0.032206  0.008020  0.433064  0.008832  0.003426  0.462197  0.026461   \n",
       "1  0.036051  0.010228  0.231630  0.005567  0.002025  0.253958  0.001260   \n",
       "2  0.036278  0.004850  0.299853  0.006127  0.002165  0.318344  0.002143   \n",
       "3  0.035819  0.007007  0.438285  0.012288  0.003409  0.468739  0.003147   \n",
       "4  0.036339  0.001468  0.353878  0.007362  0.002850  0.372432  0.001049   \n",
       "\n",
       "          7         8  \n",
       "0  1.257668  0.000021  \n",
       "1  0.687662  0.000013  \n",
       "2  0.867262  0.000004  \n",
       "3  1.317463  0.000016  \n",
       "4  1.086687  0.000004  "
      ]
     },
     "execution_count": 1,
     "metadata": {},
     "output_type": "execute_result"
    }
   ],
   "source": [
    "import pandas as pd\n",
    "\n",
    "data = pd.read_csv('tmp.csv', header=None)\n",
    "data.head()"
   ]
  },
  {
   "cell_type": "code",
   "execution_count": 2,
   "metadata": {},
   "outputs": [],
   "source": [
    "g = [0, 5, 6, 7, 8]\n",
    "s = [1, 2, 3, 4]"
   ]
  },
  {
   "cell_type": "code",
   "execution_count": 3,
   "metadata": {},
   "outputs": [
    {
     "name": "stdout",
     "output_type": "stream",
     "text": [
      "34.64651107788082\n",
      "355.8300131618387\n",
      "1.8739841952181762\n",
      "985.1642811652457\n",
      "0.007199768972868966\n",
      "********************************************\n",
      "2.5151330683111186\n",
      "25.831167553615096\n",
      "0.13604023817263183\n",
      "71.5171364789906\n",
      "0.0005226609105649298\n",
      "********************************************\n",
      "1377.5219893691562\n"
     ]
    }
   ],
   "source": [
    "for i in g:\n",
    "    print(data[i].mean() * 1000)\n",
    "    \n",
    "print('********************************************')\n",
    "\n",
    "tot = 0\n",
    "for i in g:\n",
    "    tot += data[i].mean()\n",
    "    \n",
    "for i in g:\n",
    "    print(data[i].mean() / tot * 100)\n",
    "\n",
    "print('********************************************')\n",
    "\n",
    "print(tot * 1000)"
   ]
  },
  {
   "cell_type": "code",
   "execution_count": 4,
   "metadata": {},
   "outputs": [
    {
     "name": "stdout",
     "output_type": "stream",
     "text": [
      "2.799586494370215\n",
      "336.5123602423337\n",
      "7.402427125685236\n",
      "2.7802509836630778\n",
      "********************************************\n",
      "0.801038498261138\n",
      "96.28541794900649\n",
      "2.1180374745236517\n",
      "0.795506078208711\n",
      "********************************************\n",
      "349.49462484605226\n"
     ]
    }
   ],
   "source": [
    "for i in s:\n",
    "    print(data[i].mean() * 1000)\n",
    "    \n",
    "print('********************************************')\n",
    "\n",
    "tot = 0\n",
    "for i in s:\n",
    "    tot += data[i].mean()\n",
    "    \n",
    "for i in s:\n",
    "    print(data[i].mean() / tot * 100)\n",
    "\n",
    "print('********************************************')\n",
    "\n",
    "print(tot * 1000)"
   ]
  }
 ],
 "metadata": {
  "kernelspec": {
   "display_name": "Python 3",
   "language": "python",
   "name": "python3"
  },
  "language_info": {
   "codemirror_mode": {
    "name": "ipython",
    "version": 3
   },
   "file_extension": ".py",
   "mimetype": "text/x-python",
   "name": "python",
   "nbconvert_exporter": "python",
   "pygments_lexer": "ipython3",
   "version": "3.8.6"
  }
 },
 "nbformat": 4,
 "nbformat_minor": 4
}
