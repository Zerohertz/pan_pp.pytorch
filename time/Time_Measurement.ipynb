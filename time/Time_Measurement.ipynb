{
 "cells": [
  {
   "cell_type": "code",
   "execution_count": 1,
   "metadata": {},
   "outputs": [
    {
     "data": {
      "text/html": [
       "<div>\n",
       "<style scoped>\n",
       "    .dataframe tbody tr th:only-of-type {\n",
       "        vertical-align: middle;\n",
       "    }\n",
       "\n",
       "    .dataframe tbody tr th {\n",
       "        vertical-align: top;\n",
       "    }\n",
       "\n",
       "    .dataframe thead th {\n",
       "        text-align: right;\n",
       "    }\n",
       "</style>\n",
       "<table border=\"1\" class=\"dataframe\">\n",
       "  <thead>\n",
       "    <tr style=\"text-align: right;\">\n",
       "      <th></th>\n",
       "      <th>0</th>\n",
       "      <th>1</th>\n",
       "      <th>2</th>\n",
       "      <th>3</th>\n",
       "      <th>4</th>\n",
       "      <th>5</th>\n",
       "      <th>6</th>\n",
       "      <th>7</th>\n",
       "      <th>8</th>\n",
       "    </tr>\n",
       "  </thead>\n",
       "  <tbody>\n",
       "    <tr>\n",
       "      <th>0</th>\n",
       "      <td>0.032579</td>\n",
       "      <td>0.006937</td>\n",
       "      <td>0.352357</td>\n",
       "      <td>0.009067</td>\n",
       "      <td>0.003522</td>\n",
       "      <td>0.374603</td>\n",
       "      <td>0.004026</td>\n",
       "      <td>1.296955</td>\n",
       "      <td>0.000023</td>\n",
       "    </tr>\n",
       "    <tr>\n",
       "      <th>1</th>\n",
       "      <td>0.035637</td>\n",
       "      <td>0.012433</td>\n",
       "      <td>0.176882</td>\n",
       "      <td>0.005126</td>\n",
       "      <td>0.001830</td>\n",
       "      <td>0.197283</td>\n",
       "      <td>0.002274</td>\n",
       "      <td>0.627495</td>\n",
       "      <td>0.000013</td>\n",
       "    </tr>\n",
       "    <tr>\n",
       "      <th>2</th>\n",
       "      <td>0.036086</td>\n",
       "      <td>0.003801</td>\n",
       "      <td>0.290851</td>\n",
       "      <td>0.006224</td>\n",
       "      <td>0.002456</td>\n",
       "      <td>0.304285</td>\n",
       "      <td>0.001873</td>\n",
       "      <td>0.951180</td>\n",
       "      <td>0.000004</td>\n",
       "    </tr>\n",
       "    <tr>\n",
       "      <th>3</th>\n",
       "      <td>0.035426</td>\n",
       "      <td>0.003819</td>\n",
       "      <td>0.294320</td>\n",
       "      <td>0.011831</td>\n",
       "      <td>0.003380</td>\n",
       "      <td>0.314078</td>\n",
       "      <td>0.002314</td>\n",
       "      <td>1.280653</td>\n",
       "      <td>0.000004</td>\n",
       "    </tr>\n",
       "    <tr>\n",
       "      <th>4</th>\n",
       "      <td>0.035703</td>\n",
       "      <td>0.003843</td>\n",
       "      <td>0.278198</td>\n",
       "      <td>0.008797</td>\n",
       "      <td>0.003044</td>\n",
       "      <td>0.295146</td>\n",
       "      <td>0.001207</td>\n",
       "      <td>1.076918</td>\n",
       "      <td>0.000011</td>\n",
       "    </tr>\n",
       "  </tbody>\n",
       "</table>\n",
       "</div>"
      ],
      "text/plain": [
       "          0         1         2         3         4         5         6  \\\n",
       "0  0.032579  0.006937  0.352357  0.009067  0.003522  0.374603  0.004026   \n",
       "1  0.035637  0.012433  0.176882  0.005126  0.001830  0.197283  0.002274   \n",
       "2  0.036086  0.003801  0.290851  0.006224  0.002456  0.304285  0.001873   \n",
       "3  0.035426  0.003819  0.294320  0.011831  0.003380  0.314078  0.002314   \n",
       "4  0.035703  0.003843  0.278198  0.008797  0.003044  0.295146  0.001207   \n",
       "\n",
       "          7         8  \n",
       "0  1.296955  0.000023  \n",
       "1  0.627495  0.000013  \n",
       "2  0.951180  0.000004  \n",
       "3  1.280653  0.000004  \n",
       "4  1.076918  0.000011  "
      ]
     },
     "execution_count": 1,
     "metadata": {},
     "output_type": "execute_result"
    }
   ],
   "source": [
    "import pandas as pd\n",
    "\n",
    "data = pd.read_csv('tmp.csv', header=None)\n",
    "data.head()"
   ]
  },
  {
   "cell_type": "code",
   "execution_count": 2,
   "metadata": {},
   "outputs": [],
   "source": [
    "g = [0, 5, 6, 7, 8]\n",
    "s = [1, 2, 3, 4]"
   ]
  },
  {
   "cell_type": "code",
   "execution_count": 3,
   "metadata": {},
   "outputs": [
    {
     "name": "stdout",
     "output_type": "stream",
     "text": [
      "35.27176026070468\n",
      "270.5275611122056\n",
      "1.6784148641151506\n",
      "994.2052151897166\n",
      "0.0075869040914101175\n",
      "********************************************\n",
      "2.7096886104691134\n",
      "20.78278616506692\n",
      "0.12894115880010876\n",
      "76.37800121560326\n",
      "0.0005828500605941913\n",
      "********************************************\n",
      "1301.6905383308335\n"
     ]
    }
   ],
   "source": [
    "for i in g:\n",
    "    print(data[i].mean() * 1000)\n",
    "    \n",
    "print('********************************************')\n",
    "\n",
    "tot = 0\n",
    "for i in g:\n",
    "    tot += data[i].mean()\n",
    "    \n",
    "for i in g:\n",
    "    print(data[i].mean() / tot * 100)\n",
    "\n",
    "print('********************************************')\n",
    "\n",
    "print(tot * 1000)"
   ]
  },
  {
   "cell_type": "code",
   "execution_count": 4,
   "metadata": {},
   "outputs": [
    {
     "name": "stdout",
     "output_type": "stream",
     "text": [
      "2.4203262706793844\n",
      "256.44986228187486\n",
      "7.559637031932817\n",
      "2.8475794461693624\n",
      "********************************************\n",
      "0.8988226362341235\n",
      "95.23630928212444\n",
      "2.8073788928083943\n",
      "1.0574891888330453\n",
      "********************************************\n",
      "269.2774050306564\n"
     ]
    }
   ],
   "source": [
    "for i in s:\n",
    "    print(data[i].mean() * 1000)\n",
    "    \n",
    "print('********************************************')\n",
    "\n",
    "tot = 0\n",
    "for i in s:\n",
    "    tot += data[i].mean()\n",
    "    \n",
    "for i in s:\n",
    "    print(data[i].mean() / tot * 100)\n",
    "\n",
    "print('********************************************')\n",
    "\n",
    "print(tot * 1000)"
   ]
  }
 ],
 "metadata": {
  "kernelspec": {
   "display_name": "Python 3",
   "language": "python",
   "name": "python3"
  },
  "language_info": {
   "codemirror_mode": {
    "name": "ipython",
    "version": 3
   },
   "file_extension": ".py",
   "mimetype": "text/x-python",
   "name": "python",
   "nbconvert_exporter": "python",
   "pygments_lexer": "ipython3",
   "version": "3.8.6"
  }
 },
 "nbformat": 4,
 "nbformat_minor": 4
}
