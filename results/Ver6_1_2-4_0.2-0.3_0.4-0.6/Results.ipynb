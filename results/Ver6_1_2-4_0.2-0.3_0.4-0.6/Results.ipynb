{
 "cells": [
  {
   "cell_type": "code",
   "execution_count": null,
   "metadata": {},
   "outputs": [],
   "source": [
    "import pandas as pd\n",
    "\n",
    "directory = 'Ver6_1_2-4_0.2-0.3_0.4-0.6'\n",
    "\n",
    "data = pd.read_csv('../../evaluation/' + directory + '/result.csv', header=None)\n",
    "K = data[0][:]\n",
    "N = len(K)\n",
    "Ver = ['' for _ in range(N)]\n",
    "Met = [[0 for _ in range(N)] for _ in range(3)]\n",
    "\n",
    "for i in range(N):\n",
    "    Ver[i] = K[i]\n",
    "    Met[0][i] = data[1][i]\n",
    "    Met[1][i] = data[2][i]\n",
    "    Met[2][i] = data[3][i]\n",
    "\n",
    "data = pd.read_csv('../../time/' + directory + '/time.csv', header=None)\n",
    "time = {}\n",
    "Time = [[0 for _ in range(N)] for _ in range(5)]\n",
    "\n",
    "for i in range(len(data[0])):\n",
    "    time[data[0][i]] = [data[1][i], data[2][i], data[3][i], data[4][i], data[5][i]]\n",
    "    \n",
    "for i, j in enumerate(Ver):\n",
    "    for k in range(5):\n",
    "        Time[k][i] = time[j][k]\n",
    "    print(j + ': ' + str(time[j]))"
   ]
  },
  {
   "cell_type": "code",
   "execution_count": null,
   "metadata": {},
   "outputs": [],
   "source": [
    "data = pd.read_csv('../../evaluation/Ver5_ORG/result.csv', header=None)\n",
    "for i in [0]:\n",
    "    Ver.insert(0, data[0][i])\n",
    "    for j in range(3):\n",
    "        Met[j].insert(0, data[j+1][i])\n",
    "\n",
    "data = pd.read_csv('../../time/Ver5_ORG/time.csv', header=None)\n",
    "for i in range(len(data[0])):\n",
    "    time[data[0][i]] = [data[1][i], data[2][i], data[3][i], data[4][i], data[5][i]]\n",
    "\n",
    "for i in [0]:\n",
    "    j = Ver[i]\n",
    "    for k in range(5):\n",
    "        Time[k].insert(0, time[j][k])"
   ]
  },
  {
   "cell_type": "code",
   "execution_count": null,
   "metadata": {},
   "outputs": [],
   "source": [
    "data = pd.read_csv('../../evaluation/Ver4_ORG/result.csv', header=None)\n",
    "for i in [0]:\n",
    "    Ver.insert(0, data[0][i])\n",
    "    for j in range(3):\n",
    "        Met[j].insert(0, data[j+1][i])\n",
    "\n",
    "data = pd.read_csv('../../time/Ver4_ORG/time.csv', header=None)\n",
    "for i in range(len(data[0])):\n",
    "    time[data[0][i]] = [data[1][i], data[2][i], data[3][i], data[4][i], data[5][i]]\n",
    "\n",
    "for i in [0]:\n",
    "    j = Ver[i]\n",
    "    for k in range(5):\n",
    "        Time[k].insert(0, time[j][k])"
   ]
  },
  {
   "cell_type": "code",
   "execution_count": null,
   "metadata": {},
   "outputs": [],
   "source": [
    "if not directory == 'Ver3_1_2-4_0-0.2_0-1':\n",
    "    data = pd.read_csv('../../evaluation/Ver3_1_2-4_0-0.2_0-1/result.csv', header=None)\n",
    "    for i in [9, 1, 0]:\n",
    "        Ver.insert(0, data[0][i])\n",
    "        for j in range(3):\n",
    "            Met[j].insert(0, data[j+1][i])\n",
    "\n",
    "    data = pd.read_csv('../../time/Ver3_1_2-4_0-0.2_0-1/time.csv', header=None)\n",
    "    for i in range(len(data[0])):\n",
    "        time[data[0][i]] = [data[1][i], data[2][i], data[3][i], data[4][i], data[5][i]]\n",
    "\n",
    "    for i in range(2, -1, -1):\n",
    "        j = Ver[i]\n",
    "        for k in range(5):\n",
    "            Time[k].insert(0, time[j][k])"
   ]
  },
  {
   "cell_type": "code",
   "execution_count": null,
   "metadata": {},
   "outputs": [],
   "source": [
    "import numpy as np\n",
    "import matplotlib.pyplot as plt\n",
    "\n",
    "plt.rcParams['font.family'] = 'Times New Roman'\n",
    "plt.rcParams['font.size'] = 20\n",
    "\n",
    "def plot_result(Ver, Met, Time, ext, Name=''):\n",
    "    N = len(ext)\n",
    "    Met, Time = np.array(Met), np.array(Time)\n",
    "    Ver, Met, Time = [Ver[i] for i in ext], Met[:,ext], Time[:,ext]\n",
    "    idx = np.arange(N) * 4\n",
    "    bar_width = 0.8\n",
    "    Bot = [[0 for _ in range(N)] for _ in range(5)]\n",
    "    for i in range(4):\n",
    "        for j in range(N):\n",
    "            if i == 0:\n",
    "                Bot[i + 1][j] = Time[i][j]\n",
    "            else:\n",
    "                Bot[i + 1][j] = Bot[i][j] + Time[i][j]\n",
    "    fig, ax1 = plt.subplots(figsize=(15, 10))\n",
    "    plt.grid(True)\n",
    "    fig.set_facecolor('white')\n",
    "    b1 = plt.bar(idx, Met[0], bar_width, label='HMean', color='black', zorder=10)\n",
    "    b2 = plt.bar(idx + bar_width, Met[1], bar_width, label='Precision', color='red', zorder=10)\n",
    "    b3 = plt.bar(idx + 2*bar_width, Met[2], bar_width, label='Recall', color='blue', zorder=10)\n",
    "    plt.xticks(idx + 3/2*bar_width, Ver, rotation=-45)\n",
    "    plt.ylabel('[%]')\n",
    "    plt.ylim([97, 98])\n",
    "    ax2 = ax1.twinx()\n",
    "    b4 = ax2.bar(idx + 3*bar_width, Time[0], label='Data handling\\n(Mask, GPU to CPU)', color='silver')\n",
    "    b5 = ax2.bar(idx + 3*bar_width, Time[1], bottom=Bot[1], label='PA (Pixel Aggregation)', color='indigo')\n",
    "    b6 = ax2.bar(idx + 3*bar_width, Time[2], bottom=Bot[2], label='Resizing', color='magenta')\n",
    "    b7 = ax2.bar(idx + 3*bar_width, Time[3], bottom=Bot[3], label='Boxgen', color='olive')\n",
    "    b8 = ax2.bar(idx + 3*bar_width, Time[4], bottom=Bot[4], label='Data handling (Output)', color='cyan')\n",
    "    plt.ylim([0, 1500])\n",
    "    plt.ylabel('Time [ms]')\n",
    "    bs = [b1, b2, b3, b4, b5, b6, b7, b8]\n",
    "    labels = [b.get_label() for b in bs]\n",
    "    plt.legend(bs, labels, loc='upper right', bbox_to_anchor=(1.41, 1.02))\n",
    "    if Name != '':\n",
    "        plt.savefig(Name + '.png', dpi=300, bbox_inches='tight', pad_inches=0.3, transparent=False)"
   ]
  },
  {
   "cell_type": "code",
   "execution_count": null,
   "metadata": {},
   "outputs": [],
   "source": [
    "plot_result(Ver, Met, Time, [0, 1, 2, 3, 4, 9], 'Ver6_Base')"
   ]
  },
  {
   "cell_type": "code",
   "execution_count": null,
   "metadata": {},
   "outputs": [],
   "source": [
    "plot_result(Ver, Met, Time, [0, 5, 6, 7, 8, 9, 10, 11, 12, 13], 'Ver6_2')"
   ]
  },
  {
   "cell_type": "code",
   "execution_count": null,
   "metadata": {},
   "outputs": [],
   "source": [
    "plot_result(Ver, Met, Time, [0, 14, 15, 16, 17, 18, 19, 20, 21, 22], 'Ver6_3')"
   ]
  },
  {
   "cell_type": "code",
   "execution_count": null,
   "metadata": {},
   "outputs": [],
   "source": [
    "plot_result(Ver, Met, Time, [0, 23, 24, 25, 26, 27, 28, 29, 30, 31], 'Ver6_4')"
   ]
  },
  {
   "cell_type": "code",
   "execution_count": null,
   "metadata": {},
   "outputs": [],
   "source": [
    "def ra(idx, X, xlb=''):\n",
    "    '''\n",
    "    X = [[idx0, idx1, idx2], [idx3, idx4, idx5], [idx6, idx7, idx8]]\n",
    "    '''\n",
    "    res = [[], [], []]\n",
    "    fig = plt.figure(figsize=(15, 10))\n",
    "    for i1, i2, i3 in X:\n",
    "        for j in range(3):\n",
    "            res[j].append(np.array([Met[j][i1], Met[j][i2], Met[j][i3]]).mean())\n",
    "    plt.grid()\n",
    "    fig.set_facecolor('white')\n",
    "    plt.plot(idx, res[0], 'black', linewidth=3, marker='s', markersize=15, label='HMean')\n",
    "    plt.plot(idx, res[1], 'r--', linewidth=3, marker='v', markersize=15, label='Precision')\n",
    "    plt.plot(idx, res[2], 'b-.', linewidth=3, marker='^', markersize=15, label='Recall')\n",
    "    print(res)\n",
    "    plt.xticks(idx)\n",
    "    plt.legend(loc='upper right', bbox_to_anchor=(1.21, 1.02))\n",
    "    plt.xlabel(xlb)\n",
    "    plt.ylabel('[%]')\n",
    "    plt.ylim([97.2, 98])\n",
    "    if xlb != '':\n",
    "        plt.savefig(xlb + '.png', dpi=300, bbox_inches='tight', pad_inches=0.3, transparent=False)"
   ]
  },
  {
   "cell_type": "code",
   "execution_count": null,
   "metadata": {},
   "outputs": [],
   "source": [
    "ra([0.2, 0.25, 0.3], [[5, 6, 7], [8, 9, 10], [11, 12, 13]], 'pos_const')"
   ]
  },
  {
   "cell_type": "code",
   "execution_count": null,
   "metadata": {},
   "outputs": [],
   "source": [
    "ra([0.4, 0.5, 0.6], [[5, 8, 11], [6, 9, 12], [7, 10, 13]], 'len_const')"
   ]
  }
 ],
 "metadata": {
  "kernelspec": {
   "display_name": "Python 3",
   "language": "python",
   "name": "python3"
  },
  "language_info": {
   "codemirror_mode": {
    "name": "ipython",
    "version": 3
   },
   "file_extension": ".py",
   "mimetype": "text/x-python",
   "name": "python",
   "nbconvert_exporter": "python",
   "pygments_lexer": "ipython3",
   "version": "3.8.6"
  }
 },
 "nbformat": 4,
 "nbformat_minor": 4
}
